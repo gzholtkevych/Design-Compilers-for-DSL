{
  "nbformat": 4,
  "nbformat_minor": 0,
  "metadata": {
    "colab": {
      "provenance": [],
      "toc_visible": true,
      "authorship_tag": "ABX9TyNGIGaa/ACfgQxnqjisbidY",
      "include_colab_link": true
    },
    "kernelspec": {
      "name": "python3",
      "display_name": "Python 3"
    },
    "language_info": {
      "name": "python"
    }
  },
  "cells": [
    {
      "cell_type": "markdown",
      "metadata": {
        "id": "view-in-github",
        "colab_type": "text"
      },
      "source": [
        "<a href=\"https://colab.research.google.com/github/gzholtkevych/Design-Compilers-for-DSL/blob/main/RegEx.ipynb\" target=\"_parent\"><img src=\"https://colab.research.google.com/assets/colab-badge.svg\" alt=\"Open In Colab\"/></a>"
      ]
    },
    {
      "cell_type": "markdown",
      "source": [
        "<H1><b>РЕГУЛЯРНІ ВИРАЗИ та СКІНЧЕННІ АКЦЕПТОРИ</b></H1>"
      ],
      "metadata": {
        "id": "_R8un9ihFLBe"
      }
    },
    {
      "cell_type": "markdown",
      "source": [
        "# Сервісні функції та класи"
      ],
      "metadata": {
        "id": "xeTqySyPCcbI"
      }
    },
    {
      "cell_type": "code",
      "source": [
        "from typing import Set\n",
        "from typing_extensions import Self\n",
        "\n",
        "\n",
        "def guard(condition: bool, failure: Exception) -> None:\n",
        "    \"\"\"computes 'condition' and if the result is False\n",
        "    raises exception 'failure'\n",
        "    \"\"\"\n",
        "    if not condition:\n",
        "        raise failure\n"
      ],
      "metadata": {
        "id": "_rcyeLOaAVcZ"
      },
      "execution_count": 1,
      "outputs": []
    },
    {
      "cell_type": "markdown",
      "source": [
        "# Символи (токени)"
      ],
      "metadata": {
        "id": "bbALxI6zp7FC"
      }
    },
    {
      "cell_type": "markdown",
      "source": [
        "Будемо вважати зафіксованим певний алфавіт $\\mathrm A$, який містить сутності, що називаються *символами* (або *токенами*) і які моделюються як екземпляри наступного класу."
      ],
      "metadata": {
        "id": "J3I08TK4nyti"
      }
    },
    {
      "cell_type": "code",
      "source": [
        "class Chr(str):\n",
        "\n",
        "    def __init__(self, ch: str) -> Self:\n",
        "        guard(isinstance(ch, str),\n",
        "              TypeError(\"invalid argumnet of Char-constructor\"))\n",
        "        self._data = ch\n",
        "\n",
        "    def __str__(self) -> str:\n",
        "        return f\"'{self._data}'\"\n",
        "\n",
        "    def __repr__(self) -> str:\n",
        "        return f\"Chr('{self._data}')\"\n",
        "\n",
        "    def __eq__(self, another: Self) -> bool:\n",
        "        if isinstance(another, Chr):\n",
        "            return self._data == another._data\n",
        "        return False"
      ],
      "metadata": {
        "id": "zakyyZQmqHog"
      },
      "execution_count": 6,
      "outputs": []
    },
    {
      "cell_type": "markdown",
      "source": [
        "# Регулярні вирази"
      ],
      "metadata": {
        "id": "A06aEjmoCUsY"
      }
    },
    {
      "cell_type": "markdown",
      "source": [
        "Регулярні вирази визначаються для певного алфавіту $\\mathrm A$, який будемо вважати зафіксованим як об'єкти, що будуються *виключно* за наступними правилами\n",
        "\n",
        "1. ***Правила побудови константних регулярних виразів***\n",
        "\n",
        "    1.1. $0$ є регулярним виразом,\n",
        "\n",
        "    1.2. $1$ є регулярним виразом,\n",
        "\n",
        "    1.3. $a$ для будь-якого $a\\in\\mathrm A$ є регулярним виразом.\n",
        "2. ***Правило побудови замкнекння Кліні***. Якщо вже є побудованим регулярний вираз $e$, тоді $(e*)$ є регулярним виразом, який називають ***замкненням Кліні*** виразу $e$.\n",
        "3. ***Правило побудови конкатенації***. Якщо вже є побудованими регулярні вирази $e_1$ та $e_2$, тоді $(e_1\\ e_2)$ є регулярним виразом, який називають ***конкатенацією*** виразів $e_1$ та $e_2$.\n",
        "4. ***Правило побудови альтернації***. Якщо вже є побудованими регулярні вирази $e_1$ та $e_2$, тоді $(e_1\\mid e_2)$ є регулярним виразом, який називають ***альтернацією*** виразів $e_1$ та $e_2$."
      ],
      "metadata": {
        "id": "JbFObudGbOra"
      }
    },
    {
      "cell_type": "markdown",
      "source": [
        "## Базовий клас регулярного виразу"
      ],
      "metadata": {
        "id": "kgsA01kLCsEc"
      }
    },
    {
      "cell_type": "markdown",
      "source": [
        "Базовий клас моделює регулярні вирази в цілому. Він відповідальний за:\n",
        "\n",
        "- визначення виду регулярного виразу (властивість `kind`);\n",
        "- представлення регулярного виразу у вигляді рядка (метод `__str__`);\n",
        "- визначення множини символів, що входять у регулярний вираз (властивість `chars`);\n",
        "- визначення чи належить порожній ланцюжок мові регулярного виразу (влістивість `containsEmptyChain`).\n",
        "\n",
        "Остання властивість обчислюється за правилами\n",
        "\n",
        "1. $0.\\mathtt{containsEmptyChain}=\\mathtt{False}$;\n",
        "1. $1.\\mathtt{containsEmptyChain}=\\mathtt{True}$;\n",
        "1. $a.\\mathtt{containsEmptyChain}=\\mathtt{False}$ для будь-якого $a\\in\\mathrm{A}$;\n",
        "1. $(e*).\\mathtt{containsEmptyChain}=\\mathtt{True}$ для будь-якого регулярного виразу $e$;\n",
        "1. $(e_1\\ e_2).\\mathtt{containsEmptyChain}=e_1.\\mathtt{containsEmptyChain}\\land e_2.\\mathtt{containsEmptyChain}$ для будь-яких регулярних виразів $e_1$ та $e_2$;\n",
        "1. $(e_1\\mid e_2).\\mathtt{containsEmptyChain}=e_1.\\mathtt{containsEmptyChain}\\lor e_2.\\mathtt{containsEmptyChain}$ для будь-яких регулярних виразів $e_1$ та $e_2$."
      ],
      "metadata": {
        "id": "_gJTZmRjem4h"
      }
    },
    {
      "cell_type": "code",
      "source": [
        "class ReX:\n",
        "\n",
        "    @property\n",
        "    def kind(self) -> str:\n",
        "        \"\"\"returns the kind of the regulat expression:\n",
        "        'empty' for the empty expression\n",
        "        'nil'   for the nil expression\n",
        "        'char'  for a char expression\n",
        "        'ast'   for an expression created as Kleene closure\n",
        "        'cat'   for an expression created as concatenation\n",
        "        'alt'   for an expression created as alternation\n",
        "        \"\"\"\n",
        "        if isinstance(self, Empty):\n",
        "            return 'empty'\n",
        "        if isinstance(self, Nil):\n",
        "            return 'nil'\n",
        "        if isinstance(self, Char):\n",
        "            return 'char'\n",
        "        if isinstance(self, Ast):\n",
        "            return 'ast'\n",
        "        if isinstance(self, Cat):\n",
        "            return 'cat'\n",
        "        if isinstance(self, Alt):\n",
        "            return 'alt'\n",
        "\n",
        "    def __str__(self) -> str:\n",
        "        \"\"\"returns the str-representation of a ReX-instance\n",
        "        \"\"\"\n",
        "        if self.kind == 'empty':\n",
        "            return '0'\n",
        "        if self.kind == 'nil':\n",
        "            return '1'\n",
        "        if self.kind == 'char':\n",
        "            return f\"'{self._data}'\"\n",
        "        if self.kind == 'ast':\n",
        "            return f'({self._data})*'\n",
        "        if self.kind == 'cat':\n",
        "            return f'({self._data[0]} {self._data[1]})'\n",
        "        if self.kind == 'alt':\n",
        "            return f'({self._data[0]} | {self._data[1]})'\n",
        "\n",
        "    @property\n",
        "    def chars(self) -> Set[Chr]:\n",
        "        if self.kind == 'empty' or self.kind == 'nil':\n",
        "            return set()\n",
        "        if self.kind == 'char':\n",
        "            return {self._data,}\n",
        "        if self.kind == 'ast':\n",
        "            return self._data.chars\n",
        "        if self.kind == 'cat' or self._data == 'alt':\n",
        "            temp = self._data[0].chars\n",
        "            temp |= self._data[1].chars\n",
        "            return temp\n",
        "\n",
        "    @property\n",
        "    def containsEmptyChain(self) -> bool:\n",
        "        if self.kind == 'empty':\n",
        "            return False\n",
        "        if self.kind == 'nil':\n",
        "            return True\n",
        "        if self.kind == 'char':\n",
        "            return False\n",
        "        if self.kind == 'ast':\n",
        "            return True\n",
        "        if self.kind == 'cat':\n",
        "            flag = self._data[0].containsEmptyChain\n",
        "            flag = flag and self._data[1].containsEmptyChain\n",
        "            return flag\n",
        "        if self.kind == 'alt':\n",
        "            flag = self._data[0].containsEmptyChain\n",
        "            flag = flag or self._data[1].containsEmptyChain\n",
        "            return flag"
      ],
      "metadata": {
        "id": "ej09ta7aDEav"
      },
      "execution_count": 7,
      "outputs": []
    },
    {
      "cell_type": "markdown",
      "source": [
        "## Підкласи примітивних регулярних виразів"
      ],
      "metadata": {
        "id": "2XUyyEMMDNew"
      }
    },
    {
      "cell_type": "markdown",
      "source": [
        "Клас, екземплярами якого є вирази, що дорівнюють $0$."
      ],
      "metadata": {
        "id": "Do2ewVGu3yWJ"
      }
    },
    {
      "cell_type": "code",
      "source": [
        "class Empty(ReX):\n",
        "    pass"
      ],
      "metadata": {
        "id": "XEDRV0SdBB_d"
      },
      "execution_count": 8,
      "outputs": []
    },
    {
      "cell_type": "markdown",
      "source": [
        "Клас, екземплярами якого є вирази, що дорівнюють $1$."
      ],
      "metadata": {
        "id": "vxvbLC7SsQUh"
      }
    },
    {
      "cell_type": "code",
      "source": [
        "class Nil(ReX):\n",
        "    pass"
      ],
      "metadata": {
        "id": "-rW-pAUeEIUh"
      },
      "execution_count": 12,
      "outputs": []
    },
    {
      "cell_type": "markdown",
      "source": [
        "Клас, екземплярами якого є вирази, що мають вид $a$ для $a\\in\\mathrm A$."
      ],
      "metadata": {
        "id": "Svr-Tl0cs2Ia"
      }
    },
    {
      "cell_type": "code",
      "source": [
        "class Char(ReX):\n",
        "\n",
        "    def __init__(self, ch: Chr) -> Self:\n",
        "        guard(isinstance(ch, Chr),\n",
        "              TypeError(\"the argument type of Char-constructor is invalid\"))\n",
        "        self._data = ch"
      ],
      "metadata": {
        "id": "zCTGHQCHBMWr"
      },
      "execution_count": 13,
      "outputs": []
    },
    {
      "cell_type": "markdown",
      "source": [
        "## Підклас замкнення Кліні"
      ],
      "metadata": {
        "id": "miR-KnrUDbAY"
      }
    },
    {
      "cell_type": "markdown",
      "source": [
        "Клас, екземплярами якого є вирази, що мають вид $(e*)$ для вже побудованого регулярного виразу $e$."
      ],
      "metadata": {
        "id": "0UIhpF2itYdB"
      }
    },
    {
      "cell_type": "code",
      "source": [
        "class Ast(ReX):\n",
        "\n",
        "    def __init__(self, e: ReX) -> Self:\n",
        "        guard(isinstance(e, ReX),\n",
        "              TypeError(\"the argument of Ast-constructor is invalid\"))\n",
        "        self._data = e"
      ],
      "metadata": {
        "id": "mPkkypd-BRU4"
      },
      "execution_count": 14,
      "outputs": []
    },
    {
      "cell_type": "markdown",
      "source": [
        "## Підклас конкатенації"
      ],
      "metadata": {
        "id": "UWVjoX9ADh5o"
      }
    },
    {
      "cell_type": "markdown",
      "source": [
        "Клас, екземплярами якого є вирази, що мають вид $(e_1\\ e_2)$ для вже побудованих регулярних виразів $e1$ та $e_2$."
      ],
      "metadata": {
        "id": "0BFLDfsvt_ea"
      }
    },
    {
      "cell_type": "code",
      "source": [
        "class Cat(ReX):\n",
        "\n",
        "    def __init__(self, e1: ReX, e2: ReX) -> Self:\n",
        "        guard(isinstance(e1, ReX),\n",
        "              TypeError(\"the first argument of Cat-constructor is invalid\"))\n",
        "        guard(isinstance(e2, ReX),\n",
        "              TypeError(\"the second argument of Cat-constructor is invalid\"))\n",
        "        self._data = (e1, e2)"
      ],
      "metadata": {
        "id": "w3rWFVvcBYe6"
      },
      "execution_count": 15,
      "outputs": []
    },
    {
      "cell_type": "markdown",
      "source": [
        "## Підклас альтернації"
      ],
      "metadata": {
        "id": "g1M1xggGDrDI"
      }
    },
    {
      "cell_type": "markdown",
      "source": [
        "Клас, екземплярами якого є вирази, що мають вид $(e_1\\mid e_2)$ для вже побудованих регулярних виразів $e_1$ та $e_2$."
      ],
      "metadata": {
        "id": "JSjfEkA2ubLf"
      }
    },
    {
      "cell_type": "code",
      "source": [
        "class Alt(ReX):\n",
        "\n",
        "    def __init__(self, e1: ReX, e2: ReX) -> Self:\n",
        "        guard(isinstance(e1, ReX),\n",
        "              TypeError(\"the first argument of Alt-constructor is invalid\"))\n",
        "        guard(isinstance(e2, ReX),\n",
        "              TypeError(\"the second argument of Alt-constructor is invalid\"))\n",
        "        self._data = (e1, e2)"
      ],
      "metadata": {
        "id": "YAv5BxqbAk4g"
      },
      "execution_count": 16,
      "outputs": []
    },
    {
      "cell_type": "markdown",
      "source": [
        "## Оператори над регулярними виразами"
      ],
      "metadata": {
        "id": "SSMtXD3pEUDr"
      }
    },
    {
      "cell_type": "markdown",
      "source": [
        "З кожним регулярним виразом $e$ пов'язується мова $[\\hspace{-1.5pt}[e]\\hspace{-1.5pt}]$ над алфавітом $\\mathrm A$, яка будується наступним чином\n",
        "\n",
        "1. $[\\hspace{-1.5pt}[0]\\hspace{-1.5pt}]=\\emptyset$;\n",
        "1. $[\\hspace{-1.5pt}[1]\\hspace{-1.5pt}]=\\{[\\,]\\}$;\n",
        "1. $[\\hspace{-1.5pt}[a]\\hspace{-1.5pt}]=\\{[a]\\}$ для $a\\in\\mathrm A$;\n",
        "1. $[\\hspace{-1.5pt}[(e*)]\\hspace{-1.5pt}]=[\\hspace{-1.5pt}[e]\\hspace{-1.5pt}]^\\ast$ для регулярного виразу $e$;\n",
        "1. $[\\hspace{-1.5pt}[(e_1\\ e_2)]\\hspace{-1.5pt}]=[\\hspace{-1.5pt}[e_1]\\hspace{-1.5pt}]\\cdot [\\hspace{-1.5pt}[e_2]\\hspace{-1.5pt}]$ для регулярних виразів $e_1$ та $e_2$;\n",
        "1. $[\\hspace{-1.5pt}[(e_1\\mid e_2)]\\hspace{-1.5pt}]=[\\hspace{-1.5pt}[e_1]\\hspace{-1.5pt}]\\cup [\\hspace{-1.5pt}[e_2]\\hspace{-1.5pt}]$ для регулярних виразів $e_1$ та $e_2$.\n",
        "\n",
        "Будемо називати два регулярні вирази $e_1$ та $e_2$ *семантично рівними* (позначаємо через $e_1\\simeq e_2$), якщо $[\\hspace{-1.5pt}[e_1]\\hspace{-1.5pt}]=[\\hspace{-1.5pt}[e_2]\\hspace{-1.5pt}]$."
      ],
      "metadata": {
        "id": "s2k4eHvhu4Q4"
      }
    },
    {
      "cell_type": "markdown",
      "source": [
        "### Оператор спрощення"
      ],
      "metadata": {
        "id": "dDjazixFEiIm"
      }
    },
    {
      "cell_type": "markdown",
      "source": [
        "Оператор спрощення будує для регулярного виразу $e$ регулярний вираз $e'$ такий, що $e'\\simeq e$, використовуючи наступні тотожності\n",
        "\n",
        "1. $(0*)=1$;\n",
        "1. $(1*)=1$;\n",
        "1. $((e*)*)=(e*)$;\n",
        "1. $(0\\ e)=0=(e\\ 0)$;\n",
        "1. $(1\\ e)=e=(e\\ 1)$;\n",
        "1. $(0\\mid e)=e=(e\\mid 0)$.\n",
        "\n",
        "Тут всюди $e$ є регулярним виразом."
      ],
      "metadata": {
        "id": "EfMmClJXyd4p"
      }
    },
    {
      "cell_type": "code",
      "source": [
        "def simplify(e: ReX) -> ReX:\n",
        "    \"\"\"returns the result of simplifying 'e'\"\"\"\n",
        "    guard(isinstance(e, ReX),\n",
        "          TypeError(\"the argument of 'simplify' is invalid\"))\n",
        "    if e.kind == 'ast':\n",
        "        if e._data.kind == 'empty' or e._data == 'nil':\n",
        "            return Nil()\n",
        "        if e._data.kind == 'ast':\n",
        "            return simplify(e._data)\n",
        "        return Ast(simplify(e._data))\n",
        "    if e.kind == 'cat':\n",
        "        if e._data[0].kind == 'empty' or e._data[1].kind == 'empty':\n",
        "            return Empty()\n",
        "        if e._data[0].kind == 'nil':\n",
        "            return simplify(e._data[1])\n",
        "        if e._data[1].kind == 'nil':\n",
        "            return simplify(e._data[0])\n",
        "        return Cat(simplify(e._data[0]), simplify(e._data[1]))\n",
        "    if e.kind == 'alt':\n",
        "        if e._data[0].kind == 'empty':\n",
        "            return simplify(e._data[1])\n",
        "        if e._data[1].kind == 'empty':\n",
        "            return simplify(e._data[0])\n",
        "        return Alt(simplify(e._data[0]), simplify(e._data[1]))\n",
        "    return e"
      ],
      "metadata": {
        "id": "n3Et54gLBqW6"
      },
      "execution_count": 18,
      "outputs": []
    },
    {
      "cell_type": "markdown",
      "source": [
        "### Оператор диференціювання за Бжозовськи"
      ],
      "metadata": {
        "id": "JHtYYQOuEsev"
      }
    },
    {
      "cell_type": "markdown",
      "source": [
        "Оператор диференціювання за Бжозовськи регулярного виразу $e$ за символом $a\\in\\mathrm{A}$ будує похідну Бжозовськи $a^{-1}\\cdot e$, яка обчислюється за правилами\n",
        "\n",
        "1. $a^{-1}\\cdot 0=0$;\n",
        "1. $a^{-1}\\cdot 1=0$;\n",
        "1. $a^{-1}\\cdot b=1\\texttt{ if $b=a$ else }0$;\n",
        "1. $a^{-1}\\cdot(e*)=((a^{-1}\\cdot e)\\ (e*))$;\n",
        "1. $a^{-1}\\cdot(e_1\\ e_2)=(((a^{-1}\\cdot e_1)\\ e_2)\\mid a^{-1}\\cdot e_2)\\texttt{ if $e_1.\\mathtt{containsEmptyChain}$ else }((a^{-1}\\cdot e_1)\\ e_2)$;\n",
        "1. $a^{-1}\\cdot(e_1\\mid e_2)=(a^{-1}\\cdot e_1\\mid a^{-1}\\cdot e_2)$.\n",
        "\n"
      ],
      "metadata": {
        "id": "qXoOP4vP2P_X"
      }
    },
    {
      "cell_type": "code",
      "source": [
        "def differentiate(e: ReX, ch: Chr):\n",
        "    \"\"\"computes Bfzozowski's derevative of 'e' by 'ch'\"\"\"\n",
        "    guard(isinstance(e, ReX),\n",
        "          TypeError(\"the type of the first argument \"\n",
        "                    \"of 'differentiate' is invalid\"))\n",
        "    guard(isinstance(ch, Chr),\n",
        "          TypeError(\"the type of the second argument \"\n",
        "                    \"of 'differentiate' is invalid\"))\n",
        "    if ch not in e.chars:\n",
        "        return Empty()\n",
        "    e = simplify(e)\n",
        "    if e.kind == 'char':\n",
        "        if e._data == ch:\n",
        "            return Nil()\n",
        "        return Empty()\n",
        "    if e.kind == 'ast':\n",
        "        temp = differentiate(e._data, ch)\n",
        "        temp = Cat(temp, e)\n",
        "        return simplify(temp)\n",
        "    if e.kind == 'cat':\n",
        "        temp = differentiate(e._data[0], ch)\n",
        "        temp = Cat(temp, e._data[1])\n",
        "        if e._data[0].containsEmptyChain:\n",
        "            tempp = differentiate(e._data[1], ch)\n",
        "            temp = Alt(temp, tempp)\n",
        "        return simplify(temp)\n",
        "    if e.kind == 'alt':\n",
        "        temp = differentiate(e._data[0], ch)\n",
        "        tempp = differentiate(e._data[1], ch)\n",
        "        temp = Alt(temp, tempp)\n",
        "        return simplify(temp)"
      ],
      "metadata": {
        "id": "J9CloXF6BvQU"
      },
      "execution_count": 20,
      "outputs": []
    },
    {
      "cell_type": "markdown",
      "source": [
        "# Скінченні акцептори"
      ],
      "metadata": {
        "id": "KlXen-Diqd2J"
      }
    },
    {
      "cell_type": "markdown",
      "source": [],
      "metadata": {
        "id": "5l-KrFAYtUTL"
      }
    },
    {
      "cell_type": "code",
      "source": [
        "class Acceptor:\n",
        "\n",
        "    def __init__(self, table: list[tuple[dict[Chr, int], bool]]) -> Self:\n",
        "        \"\"\"creates the acceptor with 'table', which is a list of a tuple.\n",
        "        The 'table' indeces corresponds to acceptor states.\n",
        "        Each 'table' item contains two component: transition dictionary and\n",
        "        accepting flag.\n",
        "        Keys of a transition dictionary are input chars and values are do(i, c).\n",
        "        The accepting flag is true for accepting state and false for otherwise.\n",
        "        \"\"\"\n",
        "        guard(isinstance(table, list),\n",
        "              TypeError(\"invalid type of 'table'\"))\n",
        "        guard(all(isinstance(item, tuple) and len(item) == 2 for item in table),\n",
        "              TypeError(\"invalid table item type\"))\n",
        "        guard(all(isinstance(item[1], bool) for item in table),\n",
        "              TypeError(\"invalid type of accepting flag in 'table'\"))\n",
        "        guard(all(isinstance(item[0], dict) for item in table),\n",
        "              TypeError(\"invalid type of a transition dictionary in 'table'\"))\n",
        "        self._data = table\n",
        "\n",
        "    def run(self, state: int, control: list[Chr]) -> None | int:\n",
        "        \"\"\"simulates behavior of the acceptor beginning at 'state' under\n",
        "        'control'\n",
        "        \"\"\"\n",
        "        guard(isinstance(state, int) and 0 <= state < len(self._data),\n",
        "              ValueError(\"invalid initial state of 'run'\"))\n",
        "        guard(isinstance(control, list) and\n",
        "              all(isinstance(char, Chr) for char in control),\n",
        "              TypeError(\"invalid control of 'run'\"))\n",
        "        if not control:\n",
        "            return state\n",
        "        char, control = control[0], control[1:]\n",
        "        try:\n",
        "            state = self._data[state][char]\n",
        "            return self.run(state, control)\n",
        "        except:\n",
        "            return None\n"
      ],
      "metadata": {
        "id": "mWsnTg6UtVHw"
      },
      "execution_count": null,
      "outputs": []
    },
    {
      "cell_type": "code",
      "source": [
        "a, b = Chr('a'), Chr('b')\n",
        "flip_flop = Acceptor([\n",
        "    ({a: 0, b: 1}, True),\n",
        "    ({a: 1, b: 0}, False)\n",
        "])\n",
        "\n",
        "print(flip_flop._data)\n",
        "print(flip_flop.run(0, [a, a, b]))"
      ],
      "metadata": {
        "colab": {
          "base_uri": "https://localhost:8080/"
        },
        "id": "fjNxORpU0EXQ",
        "outputId": "69546462-4e95-4037-d406-f606684f240d"
      },
      "execution_count": null,
      "outputs": [
        {
          "output_type": "stream",
          "name": "stdout",
          "text": [
            "[({Chr('a'): 0, Chr('b'): 1}, True), ({Chr('a'): 1, Chr('b'): 0}, False)]\n",
            "None\n"
          ]
        }
      ]
    }
  ]
}