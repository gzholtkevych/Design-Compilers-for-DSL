{
  "nbformat": 4,
  "nbformat_minor": 0,
  "metadata": {
    "colab": {
      "provenance": [],
      "toc_visible": true,
      "authorship_tag": "ABX9TyOPkOJz/kGAY6sZUmdJ+BKu",
      "include_colab_link": true
    },
    "kernelspec": {
      "name": "python3",
      "display_name": "Python 3"
    },
    "language_info": {
      "name": "python"
    }
  },
  "cells": [
    {
      "cell_type": "markdown",
      "metadata": {
        "id": "view-in-github",
        "colab_type": "text"
      },
      "source": [
        "<a href=\"https://colab.research.google.com/github/gzholtkevych/Design-Compilers-for-DSL/blob/main/SimpleCompiler.ipynb\" target=\"_parent\"><img src=\"https://colab.research.google.com/assets/colab-badge.svg\" alt=\"Open In Colab\"/></a>"
      ]
    },
    {
      "cell_type": "markdown",
      "source": [
        "# **ПРОСТИЙ ПРИКЛАД КОМПІЛЯТОРА**"
      ],
      "metadata": {
        "id": "ACvhz8iKX09f"
      }
    },
    {
      "cell_type": "markdown",
      "source": [
        "## **Імпорт необхідних сутностей**"
      ],
      "metadata": {
        "id": "RVxjmQPMYDXw"
      }
    },
    {
      "cell_type": "code",
      "source": [
        "from typing import Tuple, Any, Self, List"
      ],
      "metadata": {
        "id": "KUAf5sAicaHd"
      },
      "execution_count": null,
      "outputs": []
    },
    {
      "cell_type": "code",
      "source": [
        "from dataclasses import dataclass\n",
        "import re\n",
        "from abc import ABC, abstractmethod"
      ],
      "metadata": {
        "id": "HSFpsj6Vj9YD"
      },
      "execution_count": null,
      "outputs": []
    },
    {
      "cell_type": "markdown",
      "source": [
        "## **Арифметичні вирази**"
      ],
      "metadata": {
        "id": "pisYavi65SOj"
      }
    },
    {
      "cell_type": "markdown",
      "source": [
        "Розглянемо мову арифметичних виразів, що побудовані з\n",
        "\n",
        "- цілих констанат;\n",
        "- складених виразів, що мають форму `( operation operand operand )`.\n",
        "\n",
        "Значеннями для `operation` є `+` або `*`, а значеннями `operand` є арифметисні вирази.\n",
        "\n",
        "Приклад арифметичного виразу: `(+ (* 3 10) 5)`."
      ],
      "metadata": {
        "id": "3PPPdnLjR5v4"
      }
    },
    {
      "cell_type": "markdown",
      "source": [
        "### **Формальний опис синтаксису мови**"
      ],
      "metadata": {
        "id": "8GZUraxVUhQF"
      }
    },
    {
      "cell_type": "markdown",
      "source": [
        "Для опису цієї мови ми можемо використати PEG-граматику, яка чітко визначає структуру виразів.\n",
        "\n",
        "```\n",
        "Expression      <- Constant / ComposedExpression\n",
        "Constant        <- '0' / [1-9][0-9]*\n",
        "ComposedExpression <- '(' Operation Expression Expression ')'\n",
        "Operation       <- '+' / '*'\n",
        "```"
      ],
      "metadata": {
        "id": "l4ZD1ecBUsFr"
      }
    },
    {
      "cell_type": "markdown",
      "source": [
        "Пояснення\n",
        "\n",
        "> `Expression`: Це основне правило, яке каже, що вираз може бути або `Constant`, або `ComposedExpression`.  \n",
        "`Constant`: Це правило описує цілі числа. Вони можуть бути нулем ('0') або будь-яким числом, що починається з цифри від 1 до 9, за якою можуть іти інші цифри ([1-9][0-9]\\*).  \n",
        "`ComposedExpression`: Це правило описує складений вираз. Він починається з відкритої дужки `'('`, за якою слідує `Operation`, а потім два `Expression` (операнди), і завершується все закритою дужкою `')'`.  \n",
        "Operation: Це правило визначає, що операція може бути або '+', або '\\*'."
      ],
      "metadata": {
        "id": "nH41BK-GU8GF"
      }
    },
    {
      "cell_type": "markdown",
      "source": [
        "### **Лексичні класи та токени**"
      ],
      "metadata": {
        "id": "iz_Xy0o2dXML"
      }
    },
    {
      "cell_type": "markdown",
      "source": [
        "Лексичними класами (найменшими значущими одиницями) цієї мовиє\n",
        "\n",
        "1. відкрита дужка `LPAREN`, шаблоном для якої є `r'\\('`;\n",
        "2. закрита дужка `RPAREN`, шаблоном для якої є `r'\\)'`;\n",
        "3. операція `PLUS`, шаблоном для якої є `r'\\+'`;\n",
        "4. операція `MULT`, шаблоном для якої є `r'\\*'`;\n",
        "5. число `NUMBER`, шаблоном для якого є `r'0|[1-9][0-9]*'`.\n"
      ],
      "metadata": {
        "id": "rrW3UR0FAHVU"
      }
    },
    {
      "cell_type": "code",
      "source": [
        "LEXICAL_CLASSES = {\n",
        "    'LPAREN': r'\\(',\n",
        "    'RPAREN': r'\\)',\n",
        "    'PLUS': r'\\+',\n",
        "    'MULT': r'\\*',\n",
        "    'NUMBER': r'0|[1-9][0-9]*'\n",
        "}"
      ],
      "metadata": {
        "id": "eNxiKWqNj3Yh"
      },
      "execution_count": null,
      "outputs": []
    },
    {
      "cell_type": "markdown",
      "source": [
        "#### **Клас `Token`**"
      ],
      "metadata": {
        "id": "UpsvI8m6BNPZ"
      }
    },
    {
      "cell_type": "markdown",
      "source": [
        "Клас використовується для представлення лексем (найменших смислових одиниць) у лексичному аналізаторі.  \n",
        "Клас побудований на основі `dataclass` для зручного зберігання даних і має додаткову логіку для валідації та обробки значень."
      ],
      "metadata": {
        "id": "6vG2fdBlA-Be"
      }
    },
    {
      "cell_type": "code",
      "source": [
        "@dataclass(frozen=True)\n",
        "class Token:\n",
        "    type: str\n",
        "    value: str\n",
        "\n",
        "    def __post_init__(self):\n",
        "        \"\"\"\n",
        "        Перевіряє, чи відповідає значення токена його типу,\n",
        "        використовуючи словник LEXICAL_CLASSES.\n",
        "        \"\"\"\n",
        "        global LEXICAL_CLASSES\n",
        "        if self.type not in LEXICAL_CLASSES:\n",
        "            raise ValueError(f\"Невідомий тип токена: {self.type}\")\n",
        "\n",
        "        pattern = LEXICAL_CLASSES[self.type]\n",
        "        if not re.fullmatch(pattern, self.value):\n",
        "            raise ValueError(\n",
        "                f\"Некоректне значення '{self.value}' для типу токена \"\n",
        "                f\"'{self.type}'. Очікувався патерн: {pattern}\"\n",
        "            )\n"
      ],
      "metadata": {
        "id": "DbctvLCZmik1"
      },
      "execution_count": null,
      "outputs": []
    },
    {
      "cell_type": "markdown",
      "source": [
        "#### **Приклад використання**"
      ],
      "metadata": {
        "id": "b7yQlC1JQ93U"
      }
    },
    {
      "cell_type": "markdown",
      "source": [
        "1. Коректний токен"
      ],
      "metadata": {
        "id": "pMnTgM8jesZ6"
      }
    },
    {
      "cell_type": "code",
      "source": [
        "try:\n",
        "    token_valid = Token(type='NUMBER', value='123')\n",
        "    print(f\"Створено коректний токен: {token_valid}\")\n",
        "except ValueError as e:\n",
        "    print(e)"
      ],
      "metadata": {
        "colab": {
          "base_uri": "https://localhost:8080/"
        },
        "id": "eBYWPGoSQ5I-",
        "outputId": "c257d6af-4628-4677-ca5b-f9eac4e5d281"
      },
      "execution_count": null,
      "outputs": [
        {
          "output_type": "stream",
          "name": "stdout",
          "text": [
            "Створено коректний токен: Token(type='NUMBER', value='123')\n"
          ]
        }
      ]
    },
    {
      "cell_type": "markdown",
      "source": [
        "2. Некоректне значення токену"
      ],
      "metadata": {
        "id": "U5jv5CtgfCDR"
      }
    },
    {
      "cell_type": "code",
      "source": [
        "try:\n",
        "    token_invalid_value = Token(type='NUMBER', value='abc')\n",
        "except ValueError as e:\n",
        "    print(f\"Помилка! {e}\")"
      ],
      "metadata": {
        "colab": {
          "base_uri": "https://localhost:8080/"
        },
        "id": "HSVenczZfHHD",
        "outputId": "6b9aea1f-1940-4790-b239-30fcee335eaa"
      },
      "execution_count": null,
      "outputs": [
        {
          "output_type": "stream",
          "name": "stdout",
          "text": [
            "Помилка! Некоректне значення 'abc' для типу токена 'NUMBER'. Очікувався патерн: 0|[1-9][0-9]*\n"
          ]
        }
      ]
    },
    {
      "cell_type": "markdown",
      "source": [
        "3. Невідомий лексичний клас"
      ],
      "metadata": {
        "id": "VkaseS7LfXRQ"
      }
    },
    {
      "cell_type": "code",
      "source": [
        "try:\n",
        "    token_invalid_type = Token(type='UNKNOWN', value='!')\n",
        "except ValueError as e:\n",
        "    print(f\"Помилка! {e}\")"
      ],
      "metadata": {
        "colab": {
          "base_uri": "https://localhost:8080/"
        },
        "id": "Ui6BlZWffjlQ",
        "outputId": "49982034-eeb6-431d-b77c-f45fba04ae56"
      },
      "execution_count": null,
      "outputs": [
        {
          "output_type": "stream",
          "name": "stdout",
          "text": [
            "Помилка! Невідомий тип токена: UNKNOWN\n"
          ]
        }
      ]
    },
    {
      "cell_type": "markdown",
      "source": [
        "#### **Лексичний аналізатор**"
      ],
      "metadata": {
        "id": "W5MZe4o4hJWQ"
      }
    },
    {
      "cell_type": "markdown",
      "source": [
        "Лексичний аналізатор, який перетворює вхідний рядок на список токенів."
      ],
      "metadata": {
        "id": "Bj4zNminiEHA"
      }
    },
    {
      "cell_type": "code",
      "source": [
        "class Lexer:\n",
        "\n",
        "    def __init__(self, text: str):\n",
        "        self.text = text\n",
        "        self.pos = 0\n",
        "\n",
        "    def get_token(self) -> Token | None:\n",
        "        \"\"\"Повертає наступний токен з вхідного рядка.\"\"\"\n",
        "        self.skip_whitespace()\n",
        "\n",
        "        if self.pos >= len(self.text):\n",
        "            return None # Кінець рядка\n",
        "\n",
        "        # Пошук першого відповідного патерна\n",
        "        for token_type, pattern in LEXICAL_CLASSES.items():\n",
        "            match = re.match(pattern, self.text[self.pos:])\n",
        "            if match:\n",
        "                value = match.group(0)\n",
        "                self.pos += len(value)\n",
        "                return Token(token_type, value)\n",
        "\n",
        "        raise ValueError(\n",
        "            f\"Невідомий токен на позиції {self.pos}: {self.text[self.pos:]}\")\n",
        "\n",
        "    def skip_whitespace(self):\n",
        "        \"\"\"Пропускає пробіли в рядку.\"\"\"\n",
        "        match = re.match(r'\\s+', self.text[self.pos:])\n",
        "        if match:\n",
        "            self.pos += len(match.group(0))\n",
        "\n",
        "    def tokenize(self) -> list[Token]:\n",
        "        \"\"\"Виконує повний лексичний аналіз і повертає список токенів.\"\"\"\n",
        "        tokens = []\n",
        "        while True:\n",
        "            token = self.get_token()\n",
        "            if token is None:\n",
        "                break\n",
        "            tokens.append(token)\n",
        "        return tokens\n"
      ],
      "metadata": {
        "id": "F5ZRndB_hNjS"
      },
      "execution_count": null,
      "outputs": []
    },
    {
      "cell_type": "markdown",
      "source": [
        "##### Приклад використання"
      ],
      "metadata": {
        "id": "lN7TkegwiXnh"
      }
    },
    {
      "cell_type": "code",
      "source": [
        "text_input = \"(+ (* 3 10) 5)\"\n",
        "lexer = Lexer(text_input)\n",
        "token_list = lexer.tokenize()\n",
        "\n",
        "print(\"Лексичний аналіз рядка:\", text_input)\n",
        "print(\"---\")\n",
        "for token in token_list:\n",
        "    print(token)"
      ],
      "metadata": {
        "colab": {
          "base_uri": "https://localhost:8080/"
        },
        "id": "R_bWEAIOibaA",
        "outputId": "5bc53d9e-362c-47bb-9346-f1813ebb7b95"
      },
      "execution_count": null,
      "outputs": [
        {
          "output_type": "stream",
          "name": "stdout",
          "text": [
            "Лексичний аналіз рядка: (+ (* 3 10) 5)\n",
            "---\n",
            "Token(type='LPAREN', value='(')\n",
            "Token(type='PLUS', value='+')\n",
            "Token(type='LPAREN', value='(')\n",
            "Token(type='MULT', value='*')\n",
            "Token(type='NUMBER', value='3')\n",
            "Token(type='NUMBER', value='10')\n",
            "Token(type='RPAREN', value=')')\n",
            "Token(type='NUMBER', value='5')\n",
            "Token(type='RPAREN', value=')')\n"
          ]
        }
      ]
    },
    {
      "cell_type": "markdown",
      "source": [
        "### **Парсинг**"
      ],
      "metadata": {
        "id": "bODjWbywltHD"
      }
    },
    {
      "cell_type": "markdown",
      "source": [
        "#### **Структура даних для AST**"
      ],
      "metadata": {
        "id": "55Ws_rjDXzwN"
      }
    },
    {
      "cell_type": "code",
      "source": [
        "class Expression:\n",
        "    pass\n",
        "\n",
        "@dataclass(frozen=True)\n",
        "class Constant(Expression):\n",
        "    value: int\n",
        "\n",
        "@dataclass(frozen=True)\n",
        "class Plus(Expression):\n",
        "    left: Expression\n",
        "    right: Expression\n",
        "\n",
        "@dataclass(frozen=True)\n",
        "class Mult(Expression):\n",
        "    left: Expression\n",
        "    right: Expression"
      ],
      "metadata": {
        "id": "boOaYJcDj3j-"
      },
      "execution_count": null,
      "outputs": []
    },
    {
      "cell_type": "markdown",
      "source": [
        "Клас `Expression` є базовим класом.  \n",
        "Він не призначений для створення об'єктів безпосередньо.  \n",
        "Його мета — забезпечити абстрагування від конкретного виду виразів, що представлені класами, які від нього успадковуються і які представляють конкретні вирази:\n",
        "\n",
        "1. константи (цілі числа);\n",
        "2. суми двох інших виразів;\n",
        "3. добутки двох інших виразів."
      ],
      "metadata": {
        "id": "CFCzMmliYeE5"
      }
    },
    {
      "cell_type": "markdown",
      "source": [
        "#### **Клас `Parser`**"
      ],
      "metadata": {
        "id": "wlxAuh9vnRJh"
      }
    },
    {
      "cell_type": "markdown",
      "source": [],
      "metadata": {
        "id": "fcXyjFiOnfBO"
      }
    },
    {
      "cell_type": "code",
      "source": [
        "class Parser:\n",
        "    def __init__(self, tokens: List[Token]):\n",
        "        self.tokens = tokens\n",
        "        self.pos = 0\n",
        "\n",
        "    def current_token(self) -> Token | None:\n",
        "        \"\"\"Повертає поточний токен або None, якщо досягнуто кінця.\"\"\"\n",
        "        if self.pos < len(self.tokens):\n",
        "            return self.tokens[self.pos]\n",
        "        return None\n",
        "\n",
        "    def consume(self, expected_type: str) -> Token:\n",
        "        \"\"\"Перевіряє тип поточного токена та переходить до наступного.\"\"\"\n",
        "        token = self.current_token()\n",
        "        if token is None or token.type != expected_type:\n",
        "            raise SyntaxError(\n",
        "                f\"Очікувався токен типу '{expected_type}', але отримано {token}\"\n",
        "            )\n",
        "        self.pos += 1\n",
        "        return token\n",
        "\n",
        "    def parse_constant(self) -> Constant:\n",
        "        \"\"\"Парсить константу.\"\"\"\n",
        "        token = self.consume('NUMBER')\n",
        "        return Constant(value=int(token.value))\n",
        "\n",
        "    def parse_expression(self) -> Expression:\n",
        "        \"\"\"Головний метод, що розбирає будь-який вираз.\"\"\"\n",
        "        token = self.current_token()\n",
        "        if token is None:\n",
        "            raise SyntaxError(\"Неочікуваний кінець вхідних даних\")\n",
        "\n",
        "        if token.type == 'NUMBER':\n",
        "            return self.parse_constant()\n",
        "        elif token.type == 'LPAREN':\n",
        "            return self.parse_composed_expression()\n",
        "        else:\n",
        "            raise SyntaxError(f\"Неочікуваний токен: {token}\")\n",
        "\n",
        "    def parse_composed_expression(self) -> Expression:\n",
        "        \"\"\"Парсить складений вираз.\"\"\"\n",
        "        self.consume('LPAREN') # Споживаємо '('\n",
        "\n",
        "        token = self.current_token()\n",
        "        if token.type == 'PLUS':\n",
        "            self.consume('PLUS')\n",
        "            left = self.parse_expression()\n",
        "            right = self.parse_expression()\n",
        "            self.consume('RPAREN') # Споживаємо ')'\n",
        "            return Plus(left, right)\n",
        "        elif token.type == 'MULT':\n",
        "            self.consume('MULT')\n",
        "            left = self.parse_expression()\n",
        "            right = self.parse_expression()\n",
        "            self.consume('RPAREN') # Споживаємо ')'\n",
        "            return Mult(left, right)\n",
        "        else:\n",
        "            raise SyntaxError(f\"Очікувалась операція, але отримано {token}\")\n",
        "\n",
        "    def parse(self) -> Expression:\n",
        "        \"\"\"Головний метод, що запускає парсинг.\"\"\"\n",
        "        ast = self.parse_expression()\n",
        "        if self.current_token() is not None:\n",
        "            raise SyntaxError(f\"Залишилися зайві токени після парсингу: \"\n",
        "                              f\"{self.current_token()}\")\n",
        "        return ast"
      ],
      "metadata": {
        "id": "4h7956zUno5s"
      },
      "execution_count": null,
      "outputs": []
    },
    {
      "cell_type": "markdown",
      "source": [
        "##### Приклад використання"
      ],
      "metadata": {
        "id": "Nh-oJVwnn3mz"
      }
    },
    {
      "cell_type": "markdown",
      "source": [
        "Вхідний рядок"
      ],
      "metadata": {
        "id": "-NkyzV91owhx"
      }
    },
    {
      "cell_type": "code",
      "source": [
        "text_input = \"(+ (* 3 10) 5)\""
      ],
      "metadata": {
        "id": "RNVgCDJ-o2n3"
      },
      "execution_count": null,
      "outputs": []
    },
    {
      "cell_type": "markdown",
      "source": [
        "1. Лексичний аналіз"
      ],
      "metadata": {
        "id": "JsTCFZ46o6re"
      }
    },
    {
      "cell_type": "code",
      "source": [
        "lexer = Lexer(text_input)\n",
        "tokens = lexer.tokenize()\n",
        "print(\"Лексеми:\")\n",
        "for token in tokens:\n",
        "    print(token)"
      ],
      "metadata": {
        "colab": {
          "base_uri": "https://localhost:8080/"
        },
        "id": "dHopG-ispE4w",
        "outputId": "3a4d1114-4fa6-4b24-cbdb-9ab7cddfdf92"
      },
      "execution_count": null,
      "outputs": [
        {
          "output_type": "stream",
          "name": "stdout",
          "text": [
            "Лексеми:\n",
            "Token(type='LPAREN', value='(')\n",
            "Token(type='PLUS', value='+')\n",
            "Token(type='LPAREN', value='(')\n",
            "Token(type='MULT', value='*')\n",
            "Token(type='NUMBER', value='3')\n",
            "Token(type='NUMBER', value='10')\n",
            "Token(type='RPAREN', value=')')\n",
            "Token(type='NUMBER', value='5')\n",
            "Token(type='RPAREN', value=')')\n"
          ]
        }
      ]
    },
    {
      "cell_type": "markdown",
      "source": [
        "2. Синтаксичний аналіз"
      ],
      "metadata": {
        "id": "JmRxAA9ipIEi"
      }
    },
    {
      "cell_type": "code",
      "source": [
        "print(\"\\nПобудова AST:\")\n",
        "parser = Parser(tokens)\n",
        "ast_tree = parser.parse()\n",
        "print(ast_tree)"
      ],
      "metadata": {
        "colab": {
          "base_uri": "https://localhost:8080/"
        },
        "id": "BsZbESOrpLym",
        "outputId": "d884e319-6420-46e6-eab4-4fa91bbeb365"
      },
      "execution_count": null,
      "outputs": [
        {
          "output_type": "stream",
          "name": "stdout",
          "text": [
            "\n",
            "Побудова AST:\n",
            "Plus(left=Mult(left=Constant(value=3), right=Constant(value=10)), right=Constant(value=5))\n"
          ]
        }
      ]
    },
    {
      "cell_type": "markdown",
      "source": [
        "## **Стековий обчислювач**"
      ],
      "metadata": {
        "id": "ck21jtfa5nU3"
      }
    },
    {
      "cell_type": "markdown",
      "source": [
        "Простий стековий обчислювач виконує операції, використовуючи стек - список, що працює за принципом LIFO (Last In, First Out).\n",
        "\n",
        "Підтримуються дві основні команди:\n",
        "- \"save\": проштовхує число в стек та\n",
        "- \"eval\": виконує операцію (\"plus\" або \"mult\") з двома верхніми елементами стека, видаляючи їх та натомість проштовхуючи в стек результат."
      ],
      "metadata": {
        "id": "Cp-Q4kcmL_1w"
      }
    },
    {
      "cell_type": "markdown",
      "source": [
        "### **Клас `StackCalculator`**"
      ],
      "metadata": {
        "id": "mofdps2xd-gE"
      }
    },
    {
      "cell_type": "markdown",
      "source": [
        "Клас `StackCalculator` імітує роботу простого стекового комп'ютера.  "
      ],
      "metadata": {
        "id": "mNe7MVoPeh-s"
      }
    },
    {
      "cell_type": "code",
      "source": [
        "class StackCalculator:\n",
        "    \"\"\"\n",
        "    Простий стековий обчислювач, що виконує операції, використовуючи стек.\n",
        "    \"\"\"\n",
        "    def __init__(self):\n",
        "        # Стек як список Python\n",
        "        self._stack = []\n",
        "\n",
        "    def save(self, number: int):\n",
        "        \"\"\"Проштовхує число на стек.\"\"\"\n",
        "        self._stack.append(number)\n",
        "\n",
        "    def eval(self, operation: str):\n",
        "        \"\"\"\n",
        "        Виконує операцію з двома верхніми елементами стека.\n",
        "        У випадку недостатньої кількості елементів на стеку, буде викликана\n",
        "        помилка ValueError.\n",
        "        \"\"\"\n",
        "        if len(self._stack) < 2:\n",
        "            raise ValueError(\n",
        "                \"Помилка! На стеку недостатньо елементів для виконання \"\n",
        "                \"операції 'eval'. Необхідно щонайменше 2 елементи.\")\n",
        "        # Видаляємо два верхні елементи\n",
        "        operand2 = self._stack.pop()\n",
        "        operand1 = self._stack.pop()\n",
        "        result = 0\n",
        "        if operation == \"plus\":\n",
        "            result = operand1 + operand2\n",
        "        elif operation == \"mult\":\n",
        "            result = operand1 * operand2\n",
        "        else:\n",
        "            raise ValueError(f\"Помилка! Невідома операція: {operation}\")\n",
        "        # Поміщаємо результат назад на стек\n",
        "        self._stack.append(result)\n",
        "\n",
        "    def get_result(self) -> int | None:\n",
        "        \"\"\"Повертає значення з вершини стека.\"\"\"\n",
        "        if not self._stack:\n",
        "            return None\n",
        "        return self._stack[-1]"
      ],
      "metadata": {
        "id": "1L2wlSgJFDuS"
      },
      "execution_count": null,
      "outputs": []
    },
    {
      "cell_type": "markdown",
      "source": [
        "#### Приклад використання"
      ],
      "metadata": {
        "id": "2AaM03bSjhkK"
      }
    },
    {
      "cell_type": "markdown",
      "source": [
        "1. Створюємо калкулятор"
      ],
      "metadata": {
        "id": "G007x_tXjwR7"
      }
    },
    {
      "cell_type": "code",
      "source": [
        "calculator = StackCalculator()"
      ],
      "metadata": {
        "id": "zzVkIYGjjvzu"
      },
      "execution_count": null,
      "outputs": []
    },
    {
      "cell_type": "markdown",
      "source": [
        "2. Демонстрація успішного виконання"
      ],
      "metadata": {
        "id": "WsN-JJQ1jomy"
      }
    },
    {
      "cell_type": "code",
      "source": [
        "if calculator._stack:\n",
        "    calculator._stack = []\n",
        "print(\"--- Успішне виконання ---\")\n",
        "calculator.save(3)\n",
        "print(f\"Стек після 'save 3': {calculator._stack}\") # Стек: [3]\n",
        "calculator.save(10)\n",
        "print(f\"Стек після 'save 10': {calculator._stack}\") # Стек: [3, 10]\n",
        "calculator.save(5)\n",
        "print(f\"Стек після 'save 5': {calculator._stack}\") # Стек: [3, 10, 5]\n",
        "calculator.eval(\"plus\") # 10 + 5 = 15\n",
        "print(f\"Стек після 'eval plus': {calculator._stack}\") # Стек: [3, 15]\n",
        "calculator.eval(\"mult\") # 3 * 15 = 45\n",
        "print(f\"Стек після 'eval mult': {calculator._stack}\") # Стек: [45]\n",
        "print(f\"Результат: {calculator.get_result()}\\n\")"
      ],
      "metadata": {
        "colab": {
          "base_uri": "https://localhost:8080/"
        },
        "id": "J6_Ibdevjs-P",
        "outputId": "df551bbe-c12e-47b2-c9b8-6789f256d8c9"
      },
      "execution_count": null,
      "outputs": [
        {
          "output_type": "stream",
          "name": "stdout",
          "text": [
            "--- Успішне виконання ---\n",
            "Стек після 'save 3': [3]\n",
            "Стек після 'save 10': [3, 10]\n",
            "Стек після 'save 5': [3, 10, 5]\n",
            "Стек після 'eval plus': [3, 15]\n",
            "Стек після 'eval mult': [45]\n",
            "Результат: 45\n",
            "\n"
          ]
        }
      ]
    },
    {
      "cell_type": "markdown",
      "source": [
        "3. Демонстрація помилки: недостатньо елементів"
      ],
      "metadata": {
        "id": "4HVm1SXC0hnB"
      }
    },
    {
      "cell_type": "code",
      "source": [
        "print(\"--- Демонстрація помилки ---\")\n",
        "calculator_error = StackCalculator()\n",
        "calculator_error.save(10)\n",
        "print(f\"Стек після 'save 10': {calculator_error._stack}\") # Стек: [10]\n",
        "\n",
        "try:\n",
        "    calculator_error.eval(\"mult\") # Спроба виконати операцію з одним елементом\n",
        "except ValueError as e:\n",
        "    print(f\"Виникла помилка: {e}\")"
      ],
      "metadata": {
        "colab": {
          "base_uri": "https://localhost:8080/"
        },
        "id": "NrCspNE60kmC",
        "outputId": "258085f9-89c9-4ede-fc21-b127ca96005e"
      },
      "execution_count": null,
      "outputs": [
        {
          "output_type": "stream",
          "name": "stdout",
          "text": [
            "--- Демонстрація помилки ---\n",
            "Стек після 'save 10': [10]\n",
            "Виникла помилка: Помилка! На стеку недостатньо елементів для виконання операції 'eval'. Необхідно щонайменше 2 елементи.\n"
          ]
        }
      ]
    },
    {
      "cell_type": "markdown",
      "source": [
        "## **Компіляція**"
      ],
      "metadata": {
        "id": "EVBQr5iqkZG_"
      }
    },
    {
      "cell_type": "markdown",
      "source": [
        "### **Клас `Translator`**"
      ],
      "metadata": {
        "id": "Dthmm4Gp2bZ_"
      }
    },
    {
      "cell_type": "code",
      "source": [
        "# Команда для стекового обчислювача\n",
        "Command = Tuple[str, int | str | None]\n",
        "\n",
        "class Translator:\n",
        "    \"\"\"\n",
        "    Транслятор, що перетворює AST на послідовність команд\n",
        "    для стекового обчислювача.\n",
        "    \"\"\"\n",
        "    def __init__(self):\n",
        "        self.commands: List[Command] = []\n",
        "\n",
        "    def translate(self, node: Expression):\n",
        "        \"\"\"\n",
        "        Рекурсивно обходить AST і генерує команди.\n",
        "        \"\"\"\n",
        "        if isinstance(node, Constant):\n",
        "            # Генеруємо команду save для константи\n",
        "            self.commands.append((\"save\", node.value))\n",
        "\n",
        "        elif isinstance(node, Plus):\n",
        "            # Спочатку обробляємо лівий та правий операнди\n",
        "            self.translate(node.left)\n",
        "            self.translate(node.right)\n",
        "            # Потім генеруємо команду eval\n",
        "            self.commands.append((\"eval\", \"plus\"))\n",
        "\n",
        "        elif isinstance(node, Mult):\n",
        "            # Спочатку обробляємо лівий та правий операнди\n",
        "            self.translate(node.left)\n",
        "            self.translate(node.right)\n",
        "            # Потім генеруємо команду eval\n",
        "            self.commands.append((\"eval\", \"mult\"))\n",
        "\n",
        "        else:\n",
        "            raise TypeError(f\"Невідомий тип вузла AST: {type(node)}\")\n",
        "\n",
        "    def get_commands(self) -> List[Command]:\n",
        "        \"\"\"Повертає згенерований список команд.\"\"\"\n",
        "        return self.commands"
      ],
      "metadata": {
        "id": "pdRRtHIzGjmI"
      },
      "execution_count": null,
      "outputs": []
    },
    {
      "cell_type": "markdown",
      "source": [
        "### **Приклад використання**"
      ],
      "metadata": {
        "id": "sJ9MF2EX205f"
      }
    },
    {
      "cell_type": "code",
      "source": [
        "text_input = \"(+ (* 3 10) 5)\"\n",
        "print(f\"Вхідний рядок: '{text_input}'\\n\")\n",
        "\n",
        "print(\" ---- Лексичний аналіз ----------- \")\n",
        "lexer = Lexer(text_input)\n",
        "tokens = lexer.tokenize()\n",
        "print(\"\\nПослідовність лексем:\\n\")\n",
        "for token in tokens:\n",
        "    print(token)\n",
        "print()\n",
        "print(\" ---- Синтаксичний аналіз -------- \")\n",
        "parser = Parser(tokens)\n",
        "ast_tree = parser.parse()\n",
        "print(\"\\nАбстрактне синтаксичне дерево:\\n\")\n",
        "print(ast_tree)\n",
        "print()\n",
        "print(\" ---- Компіляція ----------------- \")\n",
        "translator = Translator()\n",
        "translator.translate(ast_tree)\n",
        "commands = translator.get_commands()\n",
        "print(\"\\nЗгенеровані команди:\\n\")\n",
        "for cmd, arg in commands:\n",
        "    print(f\"- {cmd} {arg}\")"
      ],
      "metadata": {
        "colab": {
          "base_uri": "https://localhost:8080/"
        },
        "id": "4WL-Emqe3JoF",
        "outputId": "ab878d66-c74c-4992-9ae8-b0f350b1b820"
      },
      "execution_count": null,
      "outputs": [
        {
          "output_type": "stream",
          "name": "stdout",
          "text": [
            "Вхідний рядок: '(+ (* 3 10) 5)'\n",
            "\n",
            " ---- Лексичний аналіз ----------- \n",
            "\n",
            "Послідовність лексем:\n",
            "\n",
            "Token(type='LPAREN', value='(')\n",
            "Token(type='PLUS', value='+')\n",
            "Token(type='LPAREN', value='(')\n",
            "Token(type='MULT', value='*')\n",
            "Token(type='NUMBER', value='3')\n",
            "Token(type='NUMBER', value='10')\n",
            "Token(type='RPAREN', value=')')\n",
            "Token(type='NUMBER', value='5')\n",
            "Token(type='RPAREN', value=')')\n",
            "\n",
            " ---- Синтаксичний аналіз -------- \n",
            "\n",
            "Абстрактне синтаксичне дерево:\n",
            "\n",
            "Plus(left=Mult(left=Constant(value=3), right=Constant(value=10)), right=Constant(value=5))\n",
            "\n",
            " ---- Компіляція ----------------- \n",
            "\n",
            "Згенеровані команди:\n",
            "\n",
            "- save 3\n",
            "- save 10\n",
            "- eval mult\n",
            "- save 5\n",
            "- eval plus\n"
          ]
        }
      ]
    }
  ]
}